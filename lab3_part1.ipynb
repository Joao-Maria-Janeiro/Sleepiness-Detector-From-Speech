{
 "cells": [
  {
   "cell_type": "code",
   "execution_count": 70,
   "metadata": {
    "autoscroll": false,
    "ein.hycell": false,
    "ein.tags": "worksheet-0",
    "slideshow": {
     "slide_type": "-"
    }
   },
   "outputs": [],
   "source": [
    "import os\n",
    "import sklearn\n",
    "import pandas as pd\n",
    "import torch\n",
    "import wave\n",
    "import numpy as np\n",
    "from tqdm import tqdm\n",
    "from sklearn.preprocessing import StandardScaler, MinMaxScaler"
   ]
  },
  {
   "cell_type": "markdown",
   "metadata": {},
   "source": [
    "## Part 1"
   ]
  },
  {
   "cell_type": "code",
   "execution_count": 37,
   "metadata": {},
   "outputs": [],
   "source": [
    "corpus_dir = \"/home/carlosmarques/Projects/ist/PF/lab3/lab3_part1/corpus\"\n",
    "labels_dir = f\"{corpus_dir}/labels\"\n",
    "wav_dir = f\"{corpus_dir}/wav\""
   ]
  },
  {
   "cell_type": "markdown",
   "metadata": {},
   "source": [
    "#### 1. Generate binary labels for train and dev sets"
   ]
  },
  {
   "cell_type": "code",
   "execution_count": 3,
   "metadata": {},
   "outputs": [],
   "source": [
    "set_names = [\"train\", \"dev\"]"
   ]
  },
  {
   "cell_type": "code",
   "execution_count": 4,
   "metadata": {},
   "outputs": [],
   "source": [
    "for name in set_names:\n",
    "    label_path = f'{labels_dir}/{name}_labels.csv'\n",
    "    df = pd.read_csv(label_path)\n",
    "    df[\"label\"] = df.apply(lambda x: 0 if x[\"kss\"] <= 7.5 else 1, axis=1)\n",
    "    df.to_csv(label_path, index=False)"
   ]
  },
  {
   "cell_type": "markdown",
   "metadata": {},
   "source": [
    "#### 2.1 Duration extraction"
   ]
  },
  {
   "cell_type": "code",
   "execution_count": 5,
   "metadata": {},
   "outputs": [],
   "source": [
    "def get_durations(set_path):\n",
    "    paths = os.listdir(set_path)\n",
    "    full_paths = []\n",
    "    durations = []\n",
    "    for x in paths:\n",
    "        full_paths.append(os.path.join(set_path, x))\n",
    "\n",
    "    for f_path in full_paths:\n",
    "        f = wave.open(f_path, 'r')\n",
    "        frames = f.getnframes()\n",
    "        rate = f.getframerate()\n",
    "        duration = frames / float(rate)\n",
    "        durations.append(duration)\n",
    "        \n",
    "    return durations\n",
    "    "
   ]
  },
  {
   "cell_type": "code",
   "execution_count": 6,
   "metadata": {},
   "outputs": [],
   "source": [
    "set_names = [\"train\", \"dev\", \"test\"]"
   ]
  },
  {
   "cell_type": "code",
   "execution_count": 7,
   "metadata": {},
   "outputs": [],
   "source": [
    "df = pd.DataFrame(index=set_names, columns=[\"average_duration\", \"total_duration\"])"
   ]
  },
  {
   "cell_type": "code",
   "execution_count": 9,
   "metadata": {},
   "outputs": [],
   "source": [
    "for name in set_names:\n",
    "    set_path = f'{wav_dir}/{name}'\n",
    "    durations = get_durations(set_path)\n",
    "    df.loc[name, \"average_duration\"] = np.average(durations)\n",
    "    df.loc[name, \"total_duration\"] = np.sum(durations)"
   ]
  },
  {
   "cell_type": "code",
   "execution_count": 10,
   "metadata": {},
   "outputs": [
    {
     "data": {
      "text/html": [
       "<div>\n",
       "<style scoped>\n",
       "    .dataframe tbody tr th:only-of-type {\n",
       "        vertical-align: middle;\n",
       "    }\n",
       "\n",
       "    .dataframe tbody tr th {\n",
       "        vertical-align: top;\n",
       "    }\n",
       "\n",
       "    .dataframe thead th {\n",
       "        text-align: right;\n",
       "    }\n",
       "</style>\n",
       "<table border=\"1\" class=\"dataframe\">\n",
       "  <thead>\n",
       "    <tr style=\"text-align: right;\">\n",
       "      <th></th>\n",
       "      <th>average_duration</th>\n",
       "      <th>total_duration</th>\n",
       "    </tr>\n",
       "  </thead>\n",
       "  <tbody>\n",
       "    <tr>\n",
       "      <th>train</th>\n",
       "      <td>9.07166</td>\n",
       "      <td>24466.3</td>\n",
       "    </tr>\n",
       "    <tr>\n",
       "      <th>dev</th>\n",
       "      <td>7.85962</td>\n",
       "      <td>10524</td>\n",
       "    </tr>\n",
       "    <tr>\n",
       "      <th>test</th>\n",
       "      <td>10.1975</td>\n",
       "      <td>12675.5</td>\n",
       "    </tr>\n",
       "  </tbody>\n",
       "</table>\n",
       "</div>"
      ],
      "text/plain": [
       "      average_duration total_duration\n",
       "train          9.07166        24466.3\n",
       "dev            7.85962          10524\n",
       "test           10.1975        12675.5"
      ]
     },
     "execution_count": 10,
     "metadata": {},
     "output_type": "execute_result"
    }
   ],
   "source": [
    "df"
   ]
  },
  {
   "cell_type": "markdown",
   "metadata": {},
   "source": [
    "#### 2.2  F/M"
   ]
  },
  {
   "cell_type": "code",
   "execution_count": 11,
   "metadata": {},
   "outputs": [],
   "source": [
    "set_names = [\"train\", \"dev\"]"
   ]
  },
  {
   "cell_type": "code",
   "execution_count": 12,
   "metadata": {},
   "outputs": [],
   "source": [
    "df = pd.DataFrame(index=set_names, columns=[\"M\", \"F\", \"SP_M\", \"SP_F\", \"NSP_M\", \"NSP_F\"])"
   ]
  },
  {
   "cell_type": "code",
   "execution_count": 13,
   "metadata": {},
   "outputs": [],
   "source": [
    "for name in set_names:\n",
    "    label_path = f'{labels_dir}/{name}_labels.csv'\n",
    "    label_df = pd.read_csv(label_path)\n",
    "    df.loc[name, \"M\"] = np.sum(label_df[\"Gender\"] == \"M\")\n",
    "    df.loc[name, \"F\"] = np.sum(label_df[\"Gender\"] == \"F\")\n",
    "    df.loc[name, \"SP_M\"] = np.sum(label_df[label_df[\"Gender\"] == \"M\"][\"label\"])\n",
    "    df.loc[name, \"SP_F\"] = np.sum(label_df[label_df[\"Gender\"] == \"F\"][\"label\"])\n",
    "    df.loc[name, \"NSP_M\"] = df.loc[name, \"M\"] - df.loc[name, \"SP_M\"]\n",
    "    df.loc[name, \"NSP_F\"] = df.loc[name, \"F\"] - df.loc[name, \"SP_F\"]"
   ]
  },
  {
   "cell_type": "code",
   "execution_count": 14,
   "metadata": {},
   "outputs": [
    {
     "data": {
      "text/html": [
       "<div>\n",
       "<style scoped>\n",
       "    .dataframe tbody tr th:only-of-type {\n",
       "        vertical-align: middle;\n",
       "    }\n",
       "\n",
       "    .dataframe tbody tr th {\n",
       "        vertical-align: top;\n",
       "    }\n",
       "\n",
       "    .dataframe thead th {\n",
       "        text-align: right;\n",
       "    }\n",
       "</style>\n",
       "<table border=\"1\" class=\"dataframe\">\n",
       "  <thead>\n",
       "    <tr style=\"text-align: right;\">\n",
       "      <th></th>\n",
       "      <th>M</th>\n",
       "      <th>F</th>\n",
       "      <th>SP_M</th>\n",
       "      <th>SP_F</th>\n",
       "      <th>NSP_M</th>\n",
       "      <th>NSP_F</th>\n",
       "    </tr>\n",
       "  </thead>\n",
       "  <tbody>\n",
       "    <tr>\n",
       "      <th>train</th>\n",
       "      <td>706</td>\n",
       "      <td>1991</td>\n",
       "      <td>247</td>\n",
       "      <td>825</td>\n",
       "      <td>459</td>\n",
       "      <td>1166</td>\n",
       "    </tr>\n",
       "    <tr>\n",
       "      <th>dev</th>\n",
       "      <td>372</td>\n",
       "      <td>967</td>\n",
       "      <td>194</td>\n",
       "      <td>294</td>\n",
       "      <td>178</td>\n",
       "      <td>673</td>\n",
       "    </tr>\n",
       "  </tbody>\n",
       "</table>\n",
       "</div>"
      ],
      "text/plain": [
       "         M     F SP_M SP_F NSP_M NSP_F\n",
       "train  706  1991  247  825   459  1166\n",
       "dev    372   967  194  294   178   673"
      ]
     },
     "execution_count": 14,
     "metadata": {},
     "output_type": "execute_result"
    }
   ],
   "source": [
    "df"
   ]
  },
  {
   "cell_type": "markdown",
   "metadata": {},
   "source": [
    "#### 3.4 Calculate weight of diferent classes to aid in SVM training"
   ]
  },
  {
   "cell_type": "code",
   "execution_count": 15,
   "metadata": {},
   "outputs": [],
   "source": [
    "total = df.loc[\"train\", \"M\"] +  df.loc[\"train\", \"F\"]"
   ]
  },
  {
   "cell_type": "code",
   "execution_count": 16,
   "metadata": {},
   "outputs": [
    {
     "data": {
      "text/plain": [
       "2.3130360205831906"
      ]
     },
     "execution_count": 16,
     "metadata": {},
     "output_type": "execute_result"
    }
   ],
   "source": [
    "nsp_female_weight = 1/(df.loc[\"train\", \"NSP_F\"] /total)\n",
    "nsp_female_weight"
   ]
  },
  {
   "cell_type": "code",
   "execution_count": 17,
   "metadata": {},
   "outputs": [
    {
     "data": {
      "text/plain": [
       "3.2690909090909095"
      ]
     },
     "execution_count": 17,
     "metadata": {},
     "output_type": "execute_result"
    }
   ],
   "source": [
    "sp_female_weight = 1/(df.loc[\"train\", \"SP_F\"] /total)\n",
    "sp_female_weight"
   ]
  },
  {
   "cell_type": "code",
   "execution_count": 18,
   "metadata": {},
   "outputs": [
    {
     "data": {
      "text/plain": [
       "5.875816993464053"
      ]
     },
     "execution_count": 18,
     "metadata": {},
     "output_type": "execute_result"
    }
   ],
   "source": [
    "nsp_male_weight = 1/(df.loc[\"train\", \"NSP_M\"] /total)\n",
    "nsp_male_weight"
   ]
  },
  {
   "cell_type": "code",
   "execution_count": 19,
   "metadata": {},
   "outputs": [
    {
     "data": {
      "text/plain": [
       "10.919028340080972"
      ]
     },
     "execution_count": 19,
     "metadata": {},
     "output_type": "execute_result"
    }
   ],
   "source": [
    "sp_male_weight = 1/(df.loc[\"train\", \"SP_M\"] /total)\n",
    "sp_male_weight"
   ]
  },
  {
   "cell_type": "markdown",
   "metadata": {},
   "source": [
    "##### Normalize weights"
   ]
  },
  {
   "cell_type": "code",
   "execution_count": 20,
   "metadata": {},
   "outputs": [
    {
     "data": {
      "text/plain": [
       "1.4133333333333333"
      ]
     },
     "execution_count": 20,
     "metadata": {},
     "output_type": "execute_result"
    }
   ],
   "source": [
    "sp_female_weight = sp_female_weight /nsp_female_weight\n",
    "sp_female_weight"
   ]
  },
  {
   "cell_type": "code",
   "execution_count": 21,
   "metadata": {
    "scrolled": true
   },
   "outputs": [
    {
     "data": {
      "text/plain": [
       "2.5403050108932463"
      ]
     },
     "execution_count": 21,
     "metadata": {},
     "output_type": "execute_result"
    }
   ],
   "source": [
    "nsp_male_weight = nsp_male_weight / nsp_female_weight\n",
    "nsp_male_weight"
   ]
  },
  {
   "cell_type": "code",
   "execution_count": 22,
   "metadata": {},
   "outputs": [
    {
     "data": {
      "text/plain": [
       "4.720647773279352"
      ]
     },
     "execution_count": 22,
     "metadata": {},
     "output_type": "execute_result"
    }
   ],
   "source": [
    "sp_male_weight = sp_male_weight/nsp_female_weight\n",
    "sp_male_weight"
   ]
  },
  {
   "cell_type": "code",
   "execution_count": 23,
   "metadata": {},
   "outputs": [],
   "source": [
    "nsp_female_weight = 1"
   ]
  },
  {
   "cell_type": "markdown",
   "metadata": {},
   "source": [
    "##### Store weights in training labels"
   ]
  },
  {
   "cell_type": "code",
   "execution_count": 24,
   "metadata": {},
   "outputs": [],
   "source": [
    "def weight_apply(file, nsp_female_weight, sp_female_weight, nsp_male_weight, sp_male_weight):\n",
    "    if file[\"Gender\"] == 'F' and file[\"label\"] == 0:\n",
    "        weight = nsp_female_weight \n",
    "    elif file[\"Gender\"] == 'F' and file[\"label\"] == 1:\n",
    "        weight = sp_female_weight \n",
    "    elif file[\"Gender\"] == 'M' and file[\"label\"] == 0:\n",
    "        weight = nsp_male_weight\n",
    "    elif file[\"Gender\"] == 'M' and file[\"label\"] == 1:\n",
    "        weight = sp_male_weight    \n",
    "    \n",
    "    return weight"
   ]
  },
  {
   "cell_type": "code",
   "execution_count": 25,
   "metadata": {},
   "outputs": [],
   "source": [
    "df = pd.read_csv(f'{labels_dir}/train_labels.csv')"
   ]
  },
  {
   "cell_type": "code",
   "execution_count": 26,
   "metadata": {},
   "outputs": [],
   "source": [
    "df[\"weight\"] = df.apply(lambda x: weight_apply(x,  nsp_female_weight, sp_female_weight, nsp_male_weight, sp_male_weight), axis=1)"
   ]
  },
  {
   "cell_type": "code",
   "execution_count": 27,
   "metadata": {},
   "outputs": [],
   "source": [
    "df.to_csv(f'{labels_dir}/train_labels.csv', index=False)"
   ]
  },
  {
   "cell_type": "markdown",
   "metadata": {},
   "source": [
    "#### 3. Feature extration with openSMILE"
   ]
  },
  {
   "cell_type": "code",
   "execution_count": 49,
   "metadata": {},
   "outputs": [],
   "source": [
    "def extract_features(set_name, wav_dir):\n",
    "    set_path = f\"{wav_dir}/{set_name}\"\n",
    "    paths = os.listdir(set_path)\n",
    "    eGeMAPS_path = f\"/home/carlosmarques/Projects/ist/PF/lab3/lab3_part1/corpus/eGeMAPS/{set_name}\"\n",
    "    IS11_path = f\"/home/carlosmarques/Projects/ist/PF/lab3/lab3_part1/corpus/IS11/{set_name}\"\n",
    "    \n",
    "    for path in tqdm(paths):\n",
    "        os.system(f\"SMILExtract -C opensmile-2.3.0/config/gemaps/eGeMAPSv01a.conf -I {set_path}/{path} -csvoutput {eGeMAPS_path}/{path.replace('wav', 'csv')}\")\n",
    "        os.system(f\"SMILExtract -C opensmile-2.3.0/config/IS11_speaker_state.conf -I {set_path}/{path} -csvoutput {IS11_path}/{path.replace('wav', 'csv')}\")"
   ]
  },
  {
   "cell_type": "code",
   "execution_count": 50,
   "metadata": {},
   "outputs": [],
   "source": [
    "set_names = [\"train\", \"dev\", \"test\"]"
   ]
  },
  {
   "cell_type": "code",
   "execution_count": 51,
   "metadata": {},
   "outputs": [
    {
     "name": "stderr",
     "output_type": "stream",
     "text": [
      "100%|██████████| 2697/2697 [19:55<00:00,  2.26it/s] \n",
      "100%|██████████| 1339/1339 [08:33<00:00,  2.61it/s]\n",
      "100%|██████████| 1243/1243 [09:36<00:00,  2.16it/s]\n"
     ]
    }
   ],
   "source": [
    "for name in set_names:\n",
    "    extract_features(name, wav_dir)"
   ]
  },
  {
   "cell_type": "markdown",
   "metadata": {},
   "source": [
    "#### 4. Preprocessing"
   ]
  },
  {
   "cell_type": "markdown",
   "metadata": {},
   "source": [
    "##### Concatenating feature files"
   ]
  },
  {
   "cell_type": "code",
   "execution_count": 52,
   "metadata": {},
   "outputs": [],
   "source": [
    "def cat_features(feature_name, set_name, corpus_dir):\n",
    "    feature_path = f\"{corpus_dir}/{feature_name}/{set_name}\"\n",
    "    paths = os.listdir(feature_path)\n",
    "    df = pd.read_csv(f\"{feature_path}/{paths[0]}\", sep=\";\")\n",
    "    paths = paths[1:]\n",
    "    \n",
    "    for path in tqdm(paths):\n",
    "        df = df.append(pd.read_csv(f\"{feature_path}/{path}\", sep=\";\"))\n",
    "    \n",
    "    paths = os.listdir(feature_path)\n",
    "    df[\"name\"] = paths\n",
    "    df.to_csv(f\"{feature_name.lower()}_{set_name}.csv\",  index=False)"
   ]
  },
  {
   "cell_type": "code",
   "execution_count": 53,
   "metadata": {},
   "outputs": [],
   "source": [
    "set_names = [\"train\", \"dev\", \"test\"]"
   ]
  },
  {
   "cell_type": "code",
   "execution_count": 54,
   "metadata": {},
   "outputs": [],
   "source": [
    "feature_sets = ['eGeMAPS', \"IS11\"]"
   ]
  },
  {
   "cell_type": "code",
   "execution_count": 55,
   "metadata": {},
   "outputs": [
    {
     "name": "stderr",
     "output_type": "stream",
     "text": [
      "100%|██████████| 2696/2696 [00:14<00:00, 185.53it/s]\n",
      "100%|██████████| 1338/1338 [00:07<00:00, 190.14it/s]\n",
      "100%|██████████| 1242/1242 [00:06<00:00, 184.26it/s]\n",
      "100%|██████████| 2696/2696 [10:23<00:00,  4.32it/s]\n",
      "100%|██████████| 1338/1338 [04:38<00:00,  4.80it/s]\n",
      "100%|██████████| 1242/1242 [04:13<00:00,  4.90it/s]\n"
     ]
    }
   ],
   "source": [
    "for feature_set in feature_sets:\n",
    "    for name in set_names:\n",
    "        cat_features(feature_set, name, corpus_dir)"
   ]
  },
  {
   "cell_type": "markdown",
   "metadata": {},
   "source": [
    "##### Scaling data"
   ]
  },
  {
   "cell_type": "code",
   "execution_count": 89,
   "metadata": {},
   "outputs": [],
   "source": [
    "def scale_data_sets(feature_name):\n",
    "    scaler = StandardScaler()\n",
    "    set_name = \"train\"\n",
    "    feature_path = f\"{feature_name}_{set_name}.csv\"\n",
    "    df = pd.read_csv(feature_path)\n",
    "    df[df.columns[2:]] = scaler.fit_transform(df[df.columns[2:]])\n",
    "    df.to_csv(f\"{feature_name}_scaled_{set_name}.csv\", index=False, sep=\";\")\n",
    "    \n",
    "    set_name = \"dev\"\n",
    "    feature_path = f\"{feature_name}_{set_name}.csv\"\n",
    "    df = pd.read_csv(feature_path)\n",
    "    df[df.columns[2:]] = scaler.transform(df[df.columns[2:]])\n",
    "    df.to_csv(f\"{feature_name}_scaled_{set_name}.csv\", index=False, sep=\";\")\n",
    "    \n",
    "    set_name = \"test\"\n",
    "    feature_path = f\"{feature_name}_{set_name}.csv\"\n",
    "    df = pd.read_csv(feature_path)\n",
    "    df[df.columns[2:]] = scaler.transform(df[df.columns[2:]])\n",
    "    df.to_csv(f\"{feature_name}_scaled_{set_name}.csv\", index=False, sep=\";\")"
   ]
  },
  {
   "cell_type": "code",
   "execution_count": 90,
   "metadata": {},
   "outputs": [],
   "source": [
    "feature_sets = ['egemaps', \"is11\"]"
   ]
  },
  {
   "cell_type": "code",
   "execution_count": 73,
   "metadata": {},
   "outputs": [
    {
     "name": "stderr",
     "output_type": "stream",
     "text": [
      "100%|██████████| 2/2 [01:07<00:00, 33.84s/it]\n"
     ]
    }
   ],
   "source": [
    "for feature_set in tqdm(feature_sets):\n",
    "    scale_data_sets(feature_set)"
   ]
  },
  {
   "cell_type": "markdown",
   "metadata": {},
   "source": [
    "#### Remove headers and empty columns from datasets"
   ]
  },
  {
   "cell_type": "code",
   "execution_count": 80,
   "metadata": {},
   "outputs": [],
   "source": [
    "def trim_df(feature_name, set_name):\n",
    "    df = pd.read_csv(f\"{feature_name}_scaled_{set_name}.csv\", sep=\";\")\n",
    "    df = df.drop([\"name\", \"frameTime\"], axis = 1)\n",
    "    df.to_csv(f\"{feature_name}_scaled_{set_name}_trimmed.csv\",  sep=\";\", index = False, header=False)"
   ]
  },
  {
   "cell_type": "code",
   "execution_count": 81,
   "metadata": {},
   "outputs": [],
   "source": [
    "set_names = [\"train\", \"dev\", \"test\"]\n",
    "feature_names = [\"egemaps\", \"is11\"]"
   ]
  },
  {
   "cell_type": "code",
   "execution_count": 82,
   "metadata": {},
   "outputs": [
    {
     "name": "stderr",
     "output_type": "stream",
     "text": [
      "100%|██████████| 3/3 [00:01<00:00,  2.91it/s]\n",
      "100%|██████████| 3/3 [00:45<00:00, 15.04s/it]\n"
     ]
    }
   ],
   "source": [
    "for feature_name in feature_names:\n",
    "    for name in tqdm(set_names):\n",
    "        trim_df(feature_name, name)"
   ]
  }
 ],
 "metadata": {
  "kernelspec": {
   "display_name": "Python 3",
   "language": "python",
   "name": "python3"
  },
  "language_info": {
   "codemirror_mode": {
    "name": "ipython",
    "version": 3
   },
   "file_extension": ".py",
   "mimetype": "text/x-python",
   "name": "python",
   "nbconvert_exporter": "python",
   "pygments_lexer": "ipython3",
   "version": "3.8.2"
  },
  "name": "lab3.ipynb"
 },
 "nbformat": 4,
 "nbformat_minor": 4
}
